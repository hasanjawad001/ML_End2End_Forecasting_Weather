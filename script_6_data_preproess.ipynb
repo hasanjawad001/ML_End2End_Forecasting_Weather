{
 "cells": [
  {
   "cell_type": "code",
   "execution_count": 8,
   "metadata": {},
   "outputs": [],
   "source": [
    "## import \n",
    "import pandas as pd"
   ]
  },
  {
   "cell_type": "code",
   "execution_count": 9,
   "metadata": {},
   "outputs": [
    {
     "name": "stderr",
     "output_type": "stream",
     "text": [
      "C:\\Users\\mchowdh5\\AppData\\Local\\Temp\\1\\ipykernel_11836\\2478984923.py:6: FutureWarning: DataFrame.fillna with 'method' is deprecated and will raise in a future version. Use obj.ffill() or obj.bfill() instead.\n",
      "  tdf.fillna(method='ffill', inplace=True)\n",
      "C:\\Users\\mchowdh5\\AppData\\Local\\Temp\\1\\ipykernel_11836\\2478984923.py:6: SettingWithCopyWarning: \n",
      "A value is trying to be set on a copy of a slice from a DataFrame\n",
      "\n",
      "See the caveats in the documentation: https://pandas.pydata.org/pandas-docs/stable/user_guide/indexing.html#returning-a-view-versus-a-copy\n",
      "  tdf.fillna(method='ffill', inplace=True)\n"
     ]
    }
   ],
   "source": [
    "## data preprocess\n",
    "df = pd.read_csv('inputs/weatherHistory.csv')\n",
    "df['Date'] = pd.to_datetime(df['Formatted Date'], utc=True)\n",
    "df['Temperature'] = df['Temperature (C)']\n",
    "tdf = df[['Date', 'Temperature']]\n",
    "tdf.fillna(method='ffill', inplace=True)\n",
    "tdf.to_csv('inputs/temperature_history.csv')"
   ]
  },
  {
   "cell_type": "code",
   "execution_count": null,
   "metadata": {},
   "outputs": [],
   "source": []
  }
 ],
 "metadata": {
  "kernelspec": {
   "display_name": "env_mle_e2e_2",
   "language": "python",
   "name": "python3"
  },
  "language_info": {
   "codemirror_mode": {
    "name": "ipython",
    "version": 3
   },
   "file_extension": ".py",
   "mimetype": "text/x-python",
   "name": "python",
   "nbconvert_exporter": "python",
   "pygments_lexer": "ipython3",
   "version": "3.9.13"
  }
 },
 "nbformat": 4,
 "nbformat_minor": 2
}
