{
 "cells": [
  {
   "cell_type": "code",
   "execution_count": 1,
   "id": "00273642",
   "metadata": {},
   "outputs": [],
   "source": [
    "## import \n",
    "# import sys\n",
    "import os\n",
    "import numpy as np\n",
    "import pandas as pd\n",
    "import boto3\n",
    "from botocore.exceptions import NoCredentialsError\n",
    "from dotenv import load_dotenv"
   ]
  },
  {
   "cell_type": "code",
   "execution_count": 2,
   "id": "8d941566",
   "metadata": {},
   "outputs": [],
   "source": [
    "## variables\n",
    "# print(sys.executable)\n",
    "seed = 0\n",
    "ratio_train = 0.8\n",
    "np.random.seed(seed)"
   ]
  },
  {
   "cell_type": "code",
   "execution_count": null,
   "id": "e97b5884",
   "metadata": {},
   "outputs": [],
   "source": [
    "## data preprocess\n",
    "df = pd.read_csv('inputs/weatherHistory.csv')\n",
    "df['Date'] = pd.to_datetime(df['Formatted Date'], utc=True)\n",
    "df['Temperature'] = df['Temperature (C)']\n",
    "tdf = df[['Date', 'Temperature']]\n",
    "tdf.fillna(method='ffill', inplace=True)\n",
    "train_size = int(ratio_train * int(tdf.shape[0]))\n",
    "train_df = tdf[:train_size]\n",
    "test_df = tdf[train_size:]\n",
    "train_df.to_csv('inputs/train.csv', index=False)\n",
    "test_df.to_csv('inputs/test.csv', index=False)"
   ]
  },
  {
   "cell_type": "code",
   "execution_count": null,
   "id": "f35dfe30",
   "metadata": {},
   "outputs": [],
   "source": [
    "## upload to cloud\n",
    "load_dotenv()\n",
    "AWS_ACCESS_KEY_ID = os.getenv('AWS_ACCESS_KEY_ID')\n",
    "AWS_SECRET_ACCESS_KEY = os.getenv('AWS_SECRET_ACCESS_KEY')\n",
    "\n",
    "def upload_to_s3(local_file, bucket, s3_file):\n",
    "    \"\"\"\n",
    "    Upload a file to an AWS S3 bucket.\n",
    "    \n",
    "    :param local_file: File to upload.\n",
    "    :param bucket: Bucket to upload to.\n",
    "    :param s3_file: S3 object name. If not specified, same as local_file.\n",
    "    \"\"\"\n",
    "    s3 = boto3.client(\n",
    "        's3', \n",
    "        aws_access_key_id=AWS_ACCESS_KEY_ID,\n",
    "        aws_secret_access_key=AWS_SECRET_ACCESS_KEY,\n",
    "        region_name='us-east-2'\n",
    "    )\n",
    "\n",
    "    try:\n",
    "        s3.upload_file(local_file, bucket, s3_file)\n",
    "        print(f\"Upload Successful: {local_file} to {bucket}/{s3_file}\")\n",
    "    except FileNotFoundError:\n",
    "        print(f\"The file {local_file} was not found\")\n",
    "    except NoCredentialsError:\n",
    "        print(\"Credentials not available\")\n",
    "\n",
    "upload_to_s3('inputs/train.csv', 'mle-e2e-2', 'inputs/train.csv')\n",
    "upload_to_s3('inputs/test.csv', 'mle-e2e-2', 'inputs/test.csv')\n"
   ]
  },
  {
   "cell_type": "code",
   "execution_count": null,
   "id": "cfa35937",
   "metadata": {},
   "outputs": [],
   "source": []
  }
 ],
 "metadata": {
  "kernelspec": {
   "display_name": "Python 3 (ipykernel)",
   "language": "python",
   "name": "python3"
  },
  "language_info": {
   "codemirror_mode": {
    "name": "ipython",
    "version": 3
   },
   "file_extension": ".py",
   "mimetype": "text/x-python",
   "name": "python",
   "nbconvert_exporter": "python",
   "pygments_lexer": "ipython3",
   "version": "3.9.13"
  }
 },
 "nbformat": 4,
 "nbformat_minor": 5
}
