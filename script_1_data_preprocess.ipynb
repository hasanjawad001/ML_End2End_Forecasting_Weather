{
 "cells": [
  {
   "cell_type": "code",
   "execution_count": 10,
   "id": "00273642",
   "metadata": {},
   "outputs": [],
   "source": [
    "# import sys\n",
    "# print(sys.executable)\n"
   ]
  },
  {
   "cell_type": "code",
   "execution_count": 11,
   "id": "5433f2f8",
   "metadata": {},
   "outputs": [],
   "source": [
    "# !pip install boto3\n",
    "# !pip install python-dotenv"
   ]
  },
  {
   "cell_type": "code",
   "execution_count": 12,
   "id": "1e212786",
   "metadata": {},
   "outputs": [],
   "source": [
    "## create data train and test"
   ]
  },
  {
   "cell_type": "code",
   "execution_count": 13,
   "id": "7306ad21",
   "metadata": {},
   "outputs": [],
   "source": [
    "import pandas as pd\n",
    "import numpy as np\n",
    "import boto3\n",
    "from botocore.exceptions import NoCredentialsError\n",
    "from dotenv import load_dotenv\n",
    "import os"
   ]
  },
  {
   "cell_type": "code",
   "execution_count": 14,
   "id": "82f13b5e",
   "metadata": {},
   "outputs": [],
   "source": [
    "# Generating data for train.csv\n",
    "np.random.seed(0)\n",
    "x_train = np.random.rand(100)\n",
    "noise_train = np.random.normal(0, 0.1, 100)\n",
    "y_train = 2 * x_train + noise_train\n",
    "train_data = pd.DataFrame({'x': x_train, 'y': y_train})"
   ]
  },
  {
   "cell_type": "code",
   "execution_count": 15,
   "id": "560abfe6",
   "metadata": {},
   "outputs": [],
   "source": [
    "# Generating data for test.csv\n",
    "x_test = np.random.rand(20)\n",
    "noise_test = np.random.normal(0, 0.1, 20)\n",
    "y_test = 2 * x_test + noise_test\n",
    "test_data = pd.DataFrame({'x': x_test, 'y': y_test})"
   ]
  },
  {
   "cell_type": "code",
   "execution_count": 16,
   "id": "1587fb26",
   "metadata": {},
   "outputs": [],
   "source": [
    "# Saving to CSV files\n",
    "train_data.to_csv('inputs/train.csv', index=False)\n",
    "test_data.to_csv('inputs/test.csv', index=False)"
   ]
  },
  {
   "cell_type": "code",
   "execution_count": 17,
   "id": "ca912db1",
   "metadata": {},
   "outputs": [],
   "source": [
    "## upload data train and test"
   ]
  },
  {
   "cell_type": "code",
   "execution_count": 18,
   "id": "bf2931f6",
   "metadata": {},
   "outputs": [
    {
     "name": "stdout",
     "output_type": "stream",
     "text": [
      "Upload Successful: inputs/train.csv to mle-e2e-1/inputs/train.csv\n",
      "Upload Successful: inputs/test.csv to mle-e2e-1/inputs/test.csv\n"
     ]
    }
   ],
   "source": [
    "# Load environment variables from .env file\n",
    "load_dotenv()\n",
    "# Retrieve AWS credentials\n",
    "AWS_ACCESS_KEY_ID = os.getenv('AWS_ACCESS_KEY_ID')\n",
    "AWS_SECRET_ACCESS_KEY = os.getenv('AWS_SECRET_ACCESS_KEY')\n",
    "\n",
    "def upload_to_s3(local_file, bucket, s3_file):\n",
    "    \"\"\"\n",
    "    Upload a file to an AWS S3 bucket.\n",
    "    \n",
    "    :param local_file: File to upload.\n",
    "    :param bucket: Bucket to upload to.\n",
    "    :param s3_file: S3 object name. If not specified, same as local_file.\n",
    "    \"\"\"\n",
    "    s3 = boto3.client(\n",
    "        's3', \n",
    "        aws_access_key_id=AWS_ACCESS_KEY_ID,\n",
    "        aws_secret_access_key=AWS_SECRET_ACCESS_KEY,\n",
    "        region_name='us-east-2'\n",
    "    )\n",
    "\n",
    "    try:\n",
    "        s3.upload_file(local_file, bucket, s3_file)\n",
    "        print(f\"Upload Successful: {local_file} to {bucket}/{s3_file}\")\n",
    "    except FileNotFoundError:\n",
    "        print(f\"The file {local_file} was not found\")\n",
    "    except NoCredentialsError:\n",
    "        print(\"Credentials not available\")\n",
    "\n",
    "# Upload train.csv and test.csv\n",
    "upload_to_s3('inputs/train.csv', 'mle-e2e-1', 'inputs/train.csv')\n",
    "upload_to_s3('inputs/test.csv', 'mle-e2e-1', 'inputs/test.csv')\n"
   ]
  },
  {
   "cell_type": "code",
   "execution_count": null,
   "id": "e5594509",
   "metadata": {},
   "outputs": [],
   "source": []
  },
  {
   "cell_type": "code",
   "execution_count": null,
   "id": "f25f8ab0",
   "metadata": {},
   "outputs": [],
   "source": []
  }
 ],
 "metadata": {
  "kernelspec": {
   "display_name": "Python 3 (ipykernel)",
   "language": "python",
   "name": "python3"
  },
  "language_info": {
   "codemirror_mode": {
    "name": "ipython",
    "version": 3
   },
   "file_extension": ".py",
   "mimetype": "text/x-python",
   "name": "python",
   "nbconvert_exporter": "python",
   "pygments_lexer": "ipython3",
   "version": "3.9.13"
  }
 },
 "nbformat": 4,
 "nbformat_minor": 5
}
