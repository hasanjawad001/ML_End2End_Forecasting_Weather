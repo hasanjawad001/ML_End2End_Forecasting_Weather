{
 "cells": [
  {
   "cell_type": "code",
   "execution_count": 9,
   "id": "72e19723",
   "metadata": {},
   "outputs": [],
   "source": [
    "import boto3\n",
    "import os\n",
    "from dotenv import load_dotenv\n",
    "import pandas as pd\n",
    "import numpy as np\n",
    "from sklearn.linear_model import LinearRegression\n",
    "from sklearn.model_selection import train_test_split\n",
    "from sklearn.metrics import mean_squared_error, mean_absolute_percentage_error, mean_absolute_error\n",
    "import joblib"
   ]
  },
  {
   "cell_type": "code",
   "execution_count": 10,
   "id": "5b8bc5d9",
   "metadata": {},
   "outputs": [],
   "source": [
    "## download data train.csv"
   ]
  },
  {
   "cell_type": "code",
   "execution_count": 11,
   "id": "5f8a30a7",
   "metadata": {},
   "outputs": [
    {
     "name": "stdout",
     "output_type": "stream",
     "text": [
      "Downloaded inputs/train.csv from S3 bucket mle-e2e-1\n"
     ]
    }
   ],
   "source": [
    "# Load environment variables\n",
    "load_dotenv()\n",
    "AWS_ACCESS_KEY_ID = os.getenv('AWS_ACCESS_KEY_ID')\n",
    "AWS_SECRET_ACCESS_KEY = os.getenv('AWS_SECRET_ACCESS_KEY')\n",
    "\n",
    "# Initialize the S3 client\n",
    "s3 = boto3.client(\n",
    "    's3', \n",
    "    aws_access_key_id=AWS_ACCESS_KEY_ID,\n",
    "    aws_secret_access_key=AWS_SECRET_ACCESS_KEY,\n",
    "    region_name='us-east-2'\n",
    ")\n",
    "\n",
    "# Download the file\n",
    "bucket_name = 'mle-e2e-1'\n",
    "file_to_download = 'inputs/train.csv'\n",
    "local_file_name = 'inputs/train.csv'\n",
    "\n",
    "s3.download_file(bucket_name, file_to_download, local_file_name)\n",
    "print(f\"Downloaded {file_to_download} from S3 bucket {bucket_name}\")"
   ]
  },
  {
   "cell_type": "code",
   "execution_count": 12,
   "id": "c5da825c",
   "metadata": {},
   "outputs": [],
   "source": [
    "## model trian"
   ]
  },
  {
   "cell_type": "code",
   "execution_count": 13,
   "id": "bc375f68",
   "metadata": {},
   "outputs": [
    {
     "name": "stdout",
     "output_type": "stream",
     "text": [
      "Mean Abs Error: 0.09036438483682596\n",
      "Mean Abs Ytest: 0.7849316738622192\n"
     ]
    }
   ],
   "source": [
    "\n",
    "# Load the dataset\n",
    "data = pd.read_csv(local_file_name)\n",
    "\n",
    "# Prepare the data\n",
    "X = data[['x']]  # Predictor variable\n",
    "y = data['y']    # Response variable\n",
    "\n",
    "# Split the data\n",
    "X_train, X_test, y_train, y_test = train_test_split(X, y, test_size=0.2, random_state=0)\n",
    "\n",
    "# Create a linear regression model\n",
    "model = LinearRegression()\n",
    "model.fit(X_train, y_train)\n",
    "\n",
    "# Evaluate the model\n",
    "y_pred = model.predict(X_test)\n",
    "err = mean_absolute_error(y_test, y_pred)\n",
    "maytest = np.mean(np.abs(y_test))\n",
    "print(f\"Mean Abs Error: {err}\")\n",
    "print(f\"Mean Abs Ytest: {maytest}\")"
   ]
  },
  {
   "cell_type": "code",
   "execution_count": 14,
   "id": "a6ebbed1",
   "metadata": {},
   "outputs": [],
   "source": [
    "## model save"
   ]
  },
  {
   "cell_type": "code",
   "execution_count": 15,
   "id": "ff43aa6e",
   "metadata": {},
   "outputs": [
    {
     "name": "stdout",
     "output_type": "stream",
     "text": [
      "Saved model to models/model.pkl\n",
      "Uploaded models/model.pkl to S3 bucket mle-e2e-1\n"
     ]
    }
   ],
   "source": [
    "# Save the model to a file\n",
    "model_file_name = 'models/model.pkl'\n",
    "joblib.dump(model, model_file_name)\n",
    "print(f\"Saved model to {model_file_name}\")\n",
    "\n",
    "# Upload the model file to S3\n",
    "model_s3_file = 'models/model.pkl'\n",
    "s3.upload_file(model_file_name, bucket_name, model_s3_file)\n",
    "print(f\"Uploaded {model_file_name} to S3 bucket {bucket_name}\")\n"
   ]
  },
  {
   "cell_type": "code",
   "execution_count": null,
   "id": "c2ed2b18",
   "metadata": {},
   "outputs": [],
   "source": []
  },
  {
   "cell_type": "code",
   "execution_count": null,
   "id": "3d736739",
   "metadata": {},
   "outputs": [],
   "source": []
  }
 ],
 "metadata": {
  "kernelspec": {
   "display_name": "Python 3 (ipykernel)",
   "language": "python",
   "name": "python3"
  },
  "language_info": {
   "codemirror_mode": {
    "name": "ipython",
    "version": 3
   },
   "file_extension": ".py",
   "mimetype": "text/x-python",
   "name": "python",
   "nbconvert_exporter": "python",
   "pygments_lexer": "ipython3",
   "version": "3.9.13"
  }
 },
 "nbformat": 4,
 "nbformat_minor": 5
}
