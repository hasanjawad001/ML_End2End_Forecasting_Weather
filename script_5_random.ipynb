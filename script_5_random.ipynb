{
 "cells": [
  {
   "cell_type": "code",
   "execution_count": null,
   "metadata": {},
   "outputs": [],
   "source": [
    "import pandas as pd\n",
    "\n",
    "# Load the dataset (replace 'your_data.csv' with your actual file path)\n",
    "df = pd.read_csv('your_data.csv')\n",
    "\n",
    "# Assuming the dataset has columns for date and temperature\n",
    "# Convert the date column to datetime and set it as index\n",
    "df['date'] = pd.to_datetime(df['date'])\n",
    "df.set_index('date', inplace=True)\n",
    "\n",
    "# Select data for a single location (if multiple locations are available)\n",
    "# df = df[df['location'] == 'specific_location']\n",
    "\n",
    "# Select one year of data for simplicity\n",
    "df = df[df.index.year == 2020]  # Replace 2020 with your year of choice\n",
    "\n",
    "# Handle missing values (simple imputation or deletion, depending on the dataset)\n",
    "df['temperature'].fillna(method='ffill', inplace=True)\n"
   ]
  },
  {
   "cell_type": "code",
   "execution_count": null,
   "metadata": {},
   "outputs": [],
   "source": [
    "import matplotlib.pyplot as plt\n",
    "\n",
    "# Plotting the temperature data\n",
    "df['temperature'].plot(title='Daily Temperature')\n",
    "plt.ylabel('Temperature')\n",
    "plt.show()\n",
    "\n",
    "# Histogram to understand distribution\n",
    "df['temperature'].hist()\n",
    "plt.title('Temperature Distribution')\n",
    "plt.xlabel('Temperature')\n",
    "plt.ylabel('Frequency')\n",
    "plt.show()\n"
   ]
  },
  {
   "cell_type": "code",
   "execution_count": null,
   "metadata": {},
   "outputs": [],
   "source": [
    "from statsmodels.tsa.arima.model import ARIMA\n",
    "from sklearn.metrics import mean_squared_error\n",
    "import numpy as np\n",
    "\n",
    "# Splitting the data into train and test sets\n",
    "train_size = int(len(df) * 0.8)\n",
    "train, test = df[0:train_size], df[train_size:len(df)]\n",
    "\n",
    "# Fit the ARIMA model\n",
    "model = ARIMA(train['temperature'], order=(5,1,0)) # order can be adjusted\n",
    "fitted_model = model.fit()\n",
    "\n",
    "# Forecasting\n",
    "forecast = fitted_model.forecast(steps=len(test))\n"
   ]
  },
  {
   "cell_type": "code",
   "execution_count": null,
   "metadata": {},
   "outputs": [],
   "source": [
    "# Compare the forecast with actual values\n",
    "forecast_series = pd.Series(forecast, index=test.index)\n",
    "plt.plot(train['temperature'], label='Train')\n",
    "plt.plot(test['temperature'], label='Actual')\n",
    "plt.plot(forecast_series, label='Forecast')\n",
    "plt.title('Temperature Forecast vs Actuals')\n",
    "plt.legend()\n",
    "plt.show()\n",
    "\n",
    "# Calculate Mean Squared Error\n",
    "mse = mean_squared_error(test['temperature'], forecast_series)\n",
    "print(f'Mean Squared Error: {mse}')\n"
   ]
  }
 ],
 "metadata": {
  "language_info": {
   "name": "python"
  }
 },
 "nbformat": 4,
 "nbformat_minor": 2
}
